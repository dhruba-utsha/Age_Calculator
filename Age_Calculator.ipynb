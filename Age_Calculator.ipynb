{
  "nbformat": 4,
  "nbformat_minor": 0,
  "metadata": {
    "colab": {
      "provenance": []
    },
    "kernelspec": {
      "name": "python3",
      "display_name": "Python 3"
    },
    "language_info": {
      "name": "python"
    }
  },
  "cells": [
    {
      "cell_type": "code",
      "execution_count": 1,
      "metadata": {
        "colab": {
          "base_uri": "https://localhost:8080/"
        },
        "id": "A2Hz6MZom-BM",
        "outputId": "e842f0ae-e0fd-4805-e82d-17dc4eb07fbe"
      },
      "outputs": [
        {
          "output_type": "stream",
          "name": "stdout",
          "text": [
            "date of birth(dd-mm-yyyy): 23-03-2000\n",
            "age at the date(dd-mm-yyyy): 23-12-2024\n",
            "Your age is 24 years 9 months 0 days\n"
          ]
        }
      ],
      "source": [
        "input_1= input('date of birth(dd-mm-yyyy): ')\n",
        "input_2= input('age at the date(dd-mm-yyyy): ')\n",
        "def age_calculator(input_1,input_2):\n",
        "    temp_1 = input_1.split('-')\n",
        "    temp_2 = input_2.split('-')\n",
        "    m_days ={0:31,1:31, 2:28, 3:31, 4:30, 5:31, 6:30, 7:31, 8:31, 9:30, 10:31, 11:30, 12:31}\n",
        "    if int(temp_2[-1])% 4 == 0:\n",
        "        m_days[2]=29\n",
        "    year = None\n",
        "    month=None\n",
        "    day = None\n",
        "    if int(temp_2[0])>=int(temp_1[0]) and (int(temp_2[1])>=int(temp_1[1])):\n",
        "        year = int(temp_2[-1]) - int(temp_1[-1])\n",
        "        month = int(temp_2[1])-int(temp_1[1])\n",
        "        day = int(temp_2[0])-int(temp_1[0])\n",
        "\n",
        "    elif int(temp_2[0])>=int(temp_1[0]) and (int(temp_2[1])<int(temp_1[1])):\n",
        "        year = (int(temp_2[-1]) - int(temp_1[-1]))-1\n",
        "        month = (12-int(temp_1[1]))+int(temp_2[1])\n",
        "        day = int(temp_2[0]) - int(temp_1[0])\n",
        "\n",
        "    elif int(temp_2[0])<int(temp_1[0]) and (int(temp_2[1])>int(temp_1[1])):\n",
        "        year = int(temp_2[-1]) - int(temp_1[-1])\n",
        "        month = (int(temp_2[1])-int(temp_1[1]))-1\n",
        "        day = int(temp_2[0]) + (m_days[int(temp_2[1])-1]-int(temp_1[0]))\n",
        "\n",
        "    else:\n",
        "        year = (int(temp_2[-1]) - int(temp_1[-1])) - 1\n",
        "        month= (12-int(temp_1[1]))+(int(temp_2[1])-1)\n",
        "        day = int(temp_2[0]) + (m_days[int(temp_2[1])-1] - int(temp_1[0]))\n",
        "    print('Your age is',year,'years',month,'months',day,'days')\n",
        "\n",
        "age_calculator(input_1,input_2)\n"
      ]
    }
  ]
}